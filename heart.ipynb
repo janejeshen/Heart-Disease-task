{
 "cells": [
  {
   "cell_type": "markdown",
   "id": "eeaf278d-c6c3-4f83-93dc-5d6844997352",
   "metadata": {},
   "source": [
    "Using the dataset attached, attempt the following questions;\n",
    "\n",
    "1. Compute the mean, median, and standard deviation for BMI, PhysicalHealth, MentalHealth, and SleepTime.\n",
    "\n",
    "2. Determine the proportion of individuals with heart disease in the dataset.\n",
    "\n",
    "3. Analyze the distribution of age categories in the dataset using appropriate visualization.\n",
    "\n",
    "4. Compare the average BMI between individuals with and without heart disease. Use visualization to support your findings.\n",
    "\n",
    "5. Investigate the relationship between physical activity and general health. Present your analysis using an appropriate visualization.\n",
    "\n",
    "6. Does smoking have a significant association with heart disease? Use a statistical test to validate your claim.\n",
    "\n",
    "7. Explore the correlation between sleep time and mental health. What insights can you draw?\n",
    "\n",
    "8. Build a logistic regression model to predict heart disease based on BMI, physical activity, smoking, and diabetes status.\n",
    "\n",
    "9. If you were to predict heart disease based on this dataset, which features would you include in your model, and why?\n",
    "\n",
    "10. Based on the findings from the dataset, what recommendations can you give to reduce the risk of heart disease?"
   ]
  },
  {
   "cell_type": "code",
   "execution_count": 64,
   "id": "aaa27b22-debe-46a4-bdd7-89b713068663",
   "metadata": {},
   "outputs": [],
   "source": [
    "# Importing necessary libraries\n",
    "import pandas as pd\n",
    "import numpy as np\n",
    "import warnings\n",
    "warnings.filterwarnings(\"ignore\")\n",
    "from IPython.display import display\n",
    "import seaborn as sns\n",
    "import matplotlib.pyplot as plt\n",
    "%matplotlib inline\n",
    "\n",
    "plt.style.use('ggplot')"
   ]
  },
  {
   "cell_type": "code",
   "execution_count": 65,
   "id": "0007195f-831d-4c8a-b181-9038955ede78",
   "metadata": {},
   "outputs": [],
   "source": [
    "# Importing data\n",
    "df = pd.read_csv(\"heart_2020_cleaned.csv\")"
   ]
  },
  {
   "cell_type": "code",
   "execution_count": 66,
   "id": "f6f61f6b-456d-4b55-9882-82ab9b41f240",
   "metadata": {},
   "outputs": [
    {
     "data": {
      "text/html": [
       "<div>\n",
       "<style scoped>\n",
       "    .dataframe tbody tr th:only-of-type {\n",
       "        vertical-align: middle;\n",
       "    }\n",
       "\n",
       "    .dataframe tbody tr th {\n",
       "        vertical-align: top;\n",
       "    }\n",
       "\n",
       "    .dataframe thead th {\n",
       "        text-align: right;\n",
       "    }\n",
       "</style>\n",
       "<table border=\"1\" class=\"dataframe\">\n",
       "  <thead>\n",
       "    <tr style=\"text-align: right;\">\n",
       "      <th></th>\n",
       "      <th>HeartDisease</th>\n",
       "      <th>BMI</th>\n",
       "      <th>Smoking</th>\n",
       "      <th>AlcoholDrinking</th>\n",
       "      <th>Stroke</th>\n",
       "      <th>PhysicalHealth</th>\n",
       "      <th>MentalHealth</th>\n",
       "      <th>DiffWalking</th>\n",
       "      <th>Sex</th>\n",
       "      <th>AgeCategory</th>\n",
       "      <th>Race</th>\n",
       "      <th>Diabetic</th>\n",
       "      <th>PhysicalActivity</th>\n",
       "      <th>GenHealth</th>\n",
       "      <th>SleepTime</th>\n",
       "      <th>Asthma</th>\n",
       "      <th>KidneyDisease</th>\n",
       "      <th>SkinCancer</th>\n",
       "    </tr>\n",
       "  </thead>\n",
       "  <tbody>\n",
       "    <tr>\n",
       "      <th>0</th>\n",
       "      <td>No</td>\n",
       "      <td>16.60</td>\n",
       "      <td>Yes</td>\n",
       "      <td>No</td>\n",
       "      <td>No</td>\n",
       "      <td>3.0</td>\n",
       "      <td>30.0</td>\n",
       "      <td>No</td>\n",
       "      <td>Female</td>\n",
       "      <td>55-59</td>\n",
       "      <td>White</td>\n",
       "      <td>Yes</td>\n",
       "      <td>Yes</td>\n",
       "      <td>Very good</td>\n",
       "      <td>5.0</td>\n",
       "      <td>Yes</td>\n",
       "      <td>No</td>\n",
       "      <td>Yes</td>\n",
       "    </tr>\n",
       "    <tr>\n",
       "      <th>1</th>\n",
       "      <td>No</td>\n",
       "      <td>20.34</td>\n",
       "      <td>No</td>\n",
       "      <td>No</td>\n",
       "      <td>Yes</td>\n",
       "      <td>0.0</td>\n",
       "      <td>0.0</td>\n",
       "      <td>No</td>\n",
       "      <td>Female</td>\n",
       "      <td>80 or older</td>\n",
       "      <td>White</td>\n",
       "      <td>No</td>\n",
       "      <td>Yes</td>\n",
       "      <td>Very good</td>\n",
       "      <td>7.0</td>\n",
       "      <td>No</td>\n",
       "      <td>No</td>\n",
       "      <td>No</td>\n",
       "    </tr>\n",
       "    <tr>\n",
       "      <th>2</th>\n",
       "      <td>No</td>\n",
       "      <td>26.58</td>\n",
       "      <td>Yes</td>\n",
       "      <td>No</td>\n",
       "      <td>No</td>\n",
       "      <td>20.0</td>\n",
       "      <td>30.0</td>\n",
       "      <td>No</td>\n",
       "      <td>Male</td>\n",
       "      <td>65-69</td>\n",
       "      <td>White</td>\n",
       "      <td>Yes</td>\n",
       "      <td>Yes</td>\n",
       "      <td>Fair</td>\n",
       "      <td>8.0</td>\n",
       "      <td>Yes</td>\n",
       "      <td>No</td>\n",
       "      <td>No</td>\n",
       "    </tr>\n",
       "    <tr>\n",
       "      <th>3</th>\n",
       "      <td>No</td>\n",
       "      <td>24.21</td>\n",
       "      <td>No</td>\n",
       "      <td>No</td>\n",
       "      <td>No</td>\n",
       "      <td>0.0</td>\n",
       "      <td>0.0</td>\n",
       "      <td>No</td>\n",
       "      <td>Female</td>\n",
       "      <td>75-79</td>\n",
       "      <td>White</td>\n",
       "      <td>No</td>\n",
       "      <td>No</td>\n",
       "      <td>Good</td>\n",
       "      <td>6.0</td>\n",
       "      <td>No</td>\n",
       "      <td>No</td>\n",
       "      <td>Yes</td>\n",
       "    </tr>\n",
       "    <tr>\n",
       "      <th>4</th>\n",
       "      <td>No</td>\n",
       "      <td>23.71</td>\n",
       "      <td>No</td>\n",
       "      <td>No</td>\n",
       "      <td>No</td>\n",
       "      <td>28.0</td>\n",
       "      <td>0.0</td>\n",
       "      <td>Yes</td>\n",
       "      <td>Female</td>\n",
       "      <td>40-44</td>\n",
       "      <td>White</td>\n",
       "      <td>No</td>\n",
       "      <td>Yes</td>\n",
       "      <td>Very good</td>\n",
       "      <td>8.0</td>\n",
       "      <td>No</td>\n",
       "      <td>No</td>\n",
       "      <td>No</td>\n",
       "    </tr>\n",
       "  </tbody>\n",
       "</table>\n",
       "</div>"
      ],
      "text/plain": [
       "  HeartDisease    BMI Smoking AlcoholDrinking Stroke  PhysicalHealth  \\\n",
       "0           No  16.60     Yes              No     No             3.0   \n",
       "1           No  20.34      No              No    Yes             0.0   \n",
       "2           No  26.58     Yes              No     No            20.0   \n",
       "3           No  24.21      No              No     No             0.0   \n",
       "4           No  23.71      No              No     No            28.0   \n",
       "\n",
       "   MentalHealth DiffWalking     Sex  AgeCategory   Race Diabetic  \\\n",
       "0          30.0          No  Female        55-59  White      Yes   \n",
       "1           0.0          No  Female  80 or older  White       No   \n",
       "2          30.0          No    Male        65-69  White      Yes   \n",
       "3           0.0          No  Female        75-79  White       No   \n",
       "4           0.0         Yes  Female        40-44  White       No   \n",
       "\n",
       "  PhysicalActivity  GenHealth  SleepTime Asthma KidneyDisease SkinCancer  \n",
       "0              Yes  Very good        5.0    Yes            No        Yes  \n",
       "1              Yes  Very good        7.0     No            No         No  \n",
       "2              Yes       Fair        8.0    Yes            No         No  \n",
       "3               No       Good        6.0     No            No        Yes  \n",
       "4              Yes  Very good        8.0     No            No         No  "
      ]
     },
     "execution_count": 66,
     "metadata": {},
     "output_type": "execute_result"
    }
   ],
   "source": [
    "df.head()"
   ]
  },
  {
   "cell_type": "code",
   "execution_count": 67,
   "id": "9f5e1a84-1867-40b7-99ab-2d12d97aa1d3",
   "metadata": {},
   "outputs": [
    {
     "data": {
      "text/plain": [
       "HeartDisease         object\n",
       "BMI                 float64\n",
       "Smoking              object\n",
       "AlcoholDrinking      object\n",
       "Stroke               object\n",
       "PhysicalHealth      float64\n",
       "MentalHealth        float64\n",
       "DiffWalking          object\n",
       "Sex                  object\n",
       "AgeCategory          object\n",
       "Race                 object\n",
       "Diabetic             object\n",
       "PhysicalActivity     object\n",
       "GenHealth            object\n",
       "SleepTime           float64\n",
       "Asthma               object\n",
       "KidneyDisease        object\n",
       "SkinCancer           object\n",
       "dtype: object"
      ]
     },
     "execution_count": 67,
     "metadata": {},
     "output_type": "execute_result"
    }
   ],
   "source": [
    "df.dtypes"
   ]
  },
  {
   "cell_type": "code",
   "execution_count": 68,
   "id": "adcae3e7-a463-4484-99d6-275224bd3b94",
   "metadata": {},
   "outputs": [
    {
     "data": {
      "text/plain": [
       "False"
      ]
     },
     "execution_count": 68,
     "metadata": {},
     "output_type": "execute_result"
    }
   ],
   "source": [
    "df.isna().any().any()"
   ]
  },
  {
   "cell_type": "markdown",
   "id": "bc36bfce-ef25-4cb7-a55f-a23ab83d3610",
   "metadata": {},
   "source": [
    "##### 1. Compute the mean, median, and standard deviation for BMI, PhysicalHealth, MentalHealth, and SleepTime."
   ]
  },
  {
   "cell_type": "code",
   "execution_count": 70,
   "id": "96577417-6b9a-4f38-a5a0-b8cfaf160618",
   "metadata": {},
   "outputs": [],
   "source": [
    "# Function to calculate mean,median and std\n",
    "def statistics(df, col):\n",
    "    print(f\"{col} mean: {df[col].mean()}\")\n",
    "    print(f\"{col} median: {df[col].median()}\")\n",
    "    print(f\"{col} standard deviation: {df[col].std()}\")"
   ]
  },
  {
   "cell_type": "code",
   "execution_count": 71,
   "id": "939f706e-57bd-48af-bb9d-7d03d70f2c9d",
   "metadata": {},
   "outputs": [
    {
     "name": "stdout",
     "output_type": "stream",
     "text": [
      "BMI mean: 28.325398520927465\n",
      "BMI median: 27.34\n",
      "BMI standard deviation: 6.356100200471519\n"
     ]
    }
   ],
   "source": [
    "# Calculating mean, median and std for bmi column\n",
    "statistics(df,\"BMI\")"
   ]
  },
  {
   "cell_type": "code",
   "execution_count": 72,
   "id": "d1360a7f-54f7-40f8-969d-1fed2edbd23c",
   "metadata": {},
   "outputs": [
    {
     "name": "stdout",
     "output_type": "stream",
     "text": [
      "PhysicalHealth mean: 3.3717100017198516\n",
      "PhysicalHealth median: 0.0\n",
      "PhysicalHealth standard deviation: 7.95085018257456\n"
     ]
    }
   ],
   "source": [
    "# Calculating mean, median and std for PhysicalHealth column\n",
    "statistics(df,\"PhysicalHealth\")"
   ]
  },
  {
   "cell_type": "code",
   "execution_count": 73,
   "id": "b86bdb37-e884-4025-8bed-99799b55e73e",
   "metadata": {},
   "outputs": [
    {
     "name": "stdout",
     "output_type": "stream",
     "text": [
      "MentalHealth mean: 3.898366140808956\n",
      "MentalHealth median: 0.0\n",
      "MentalHealth standard deviation: 7.955235218946832\n"
     ]
    }
   ],
   "source": [
    "# Calculating mean, median and std for MentalHealth column\n",
    "statistics(df,\"MentalHealth\")"
   ]
  },
  {
   "cell_type": "code",
   "execution_count": 74,
   "id": "ef4cd20c-1151-4f4f-9ab4-1676aeb24e6f",
   "metadata": {},
   "outputs": [
    {
     "name": "stdout",
     "output_type": "stream",
     "text": [
      "SleepTime mean: 7.097074688472302\n",
      "SleepTime median: 7.0\n",
      "SleepTime standard deviation: 1.4360070609668765\n"
     ]
    }
   ],
   "source": [
    "# Calculating mean, median and std for SleepTime column\n",
    "statistics(df,\"SleepTime\")"
   ]
  },
  {
   "cell_type": "markdown",
   "id": "91c7c90d-fff2-4855-9d23-b0f9a100e676",
   "metadata": {},
   "source": [
    "##### 2. Determine the proportion of individuals with heart disease in the dataset."
   ]
  },
  {
   "cell_type": "code",
   "execution_count": 76,
   "id": "63fb5f06-af14-4dad-a9cc-49fdaf3095ba",
   "metadata": {},
   "outputs": [
    {
     "data": {
      "text/plain": [
       "HeartDisease\n",
       "No     292422\n",
       "Yes     27373\n",
       "Name: count, dtype: int64"
      ]
     },
     "execution_count": 76,
     "metadata": {},
     "output_type": "execute_result"
    }
   ],
   "source": [
    "# Checking the distribution of heart disease \n",
    "df.HeartDisease.value_counts()"
   ]
  },
  {
   "cell_type": "markdown",
   "id": "4784673a-049f-4eb5-8447-8361d2fec49f",
   "metadata": {},
   "source": [
    "##### 3. Analyze the distribution of age categories in the dataset using appropriate visualization."
   ]
  },
  {
   "cell_type": "code",
   "execution_count": 78,
   "id": "ba812374-c5de-46ca-925b-b35adf18e31c",
   "metadata": {},
   "outputs": [
    {
     "data": {
      "image/png": "[encoded data removed]",
      "text/plain": [
       "<Figure size 1200x600 with 1 Axes>"
      ]
     },
     "metadata": {},
     "output_type": "display_data"
    }
   ],
   "source": [
    "# Setting the size of the plot\n",
    "plt.figure(figsize=(12,6))\n",
    "\n",
    "# Plotting a count plot\n",
    "sns.countplot(data=df, x=\"AgeCategory\", palette=\"Set2\", order=df[\"AgeCategory\"].value_counts().index)\n",
    "\n",
    "# Adding title\n",
    "plt.title(\"Age Category Distribution\")\n",
    "plt.xticks(rotation=45)\n",
    "plt.show()"
   ]
  },
  {
   "cell_type": "markdown",
   "id": "8603b245-a975-4611-8320-0251bdd56b5e",
   "metadata": {},
   "source": [
    "##### 4. Compare the average BMI between individuals with and without heart disease. Use visualization to support your findings."
   ]
  },
  {
   "cell_type": "code",
   "execution_count": 80,
   "id": "28e98407-d5b3-4670-ad71-bba8634df1b2",
   "metadata": {},
   "outputs": [
    {
     "data": {
      "image/png": "[encoded data removed]",
      "text/plain": [
       "<Figure size 1200x600 with 1 Axes>"
      ]
     },
     "metadata": {},
     "output_type": "display_data"
    }
   ],
   "source": [
    "# setting the size of the plot\n",
    "plt.figure(figsize=(12,6))\n",
    "\n",
    "# Plotting a bar plot\n",
    "sns.barplot(data=df, x=\"HeartDisease\", y=\"BMI\", palette=\"Set2\",\n",
    "           order=df.groupby(\"HeartDisease\")[\"BMI\"].mean().sort_values(ascending=False).index)\n",
    "\n",
    "# Adding labels and title\n",
    "plt.xlabel(\"HeartDisease\")\n",
    "plt.ylabel(\"BMI\")\n",
    "plt.title(\"Average BMI between individuals with and without heart disease\")\n",
    "plt.xticks(rotation=45)\n",
    "\n",
    "plt.show()"
   ]
  },
  {
   "cell_type": "markdown",
   "id": "843f7515-d6e3-40ba-be7d-fa2fd2b85e76",
   "metadata": {},
   "source": [
    "##### 5. Investigate the relationship between physical activity and general health. Present your analysis using an appropriate visualization."
   ]
  },
  {
   "cell_type": "code",
   "execution_count": 82,
   "id": "607ebffc-eca0-4e44-9f19-e0e80c34432f",
   "metadata": {},
   "outputs": [
    {
     "data": {
      "image/png": "[encoded data removed]",
      "text/plain": [
       "<Figure size 1200x600 with 1 Axes>"
      ]
     },
     "metadata": {},
     "output_type": "display_data"
    }
   ],
   "source": [
    "# Setting the size of the plot\n",
    "plt.figure(figsize=(12,6))\n",
    "\n",
    "# Plotting a count plot\n",
    "sns.countplot(data=df, x=\"PhysicalActivity\", hue=\"GenHealth\", palette=\"Set2\")\n",
    "\n",
    "# Adding title\n",
    "plt.title(\"Relationship Between Physical Activity and General Health\")\n",
    "plt.xlabel(\"Physical Activity Level\")\n",
    "plt.ylabel(\"Count\")\n",
    "plt.legend(title=\"General Health\")\n",
    "plt.show()"
   ]
  },
  {
   "cell_type": "markdown",
   "id": "61fc87d1-d422-424b-93f4-3dcf6aee38f9",
   "metadata": {},
   "source": [
    "##### 6. Does smoking have a significant association with heart disease? Use a statistical test to validate your claim."
   ]
  },
  {
   "cell_type": "code",
   "execution_count": 84,
   "id": "46c4e8b1-2310-4ed6-a0c4-15094aa669ed",
   "metadata": {},
   "outputs": [
    {
     "name": "stdout",
     "output_type": "stream",
     "text": [
      "Chi-Square Statistic: 3713.0331\n",
      "P-value: 0.0000\n",
      "Degrees of Freedom: 1\n"
     ]
    }
   ],
   "source": [
    "import scipy.stats as stats\n",
    "\n",
    "# Null Hypothesis - there is no significant relationship between Smoking and HeartDisease\n",
    "# Alternative Hypothesis - there is a significant relationship between Smoking and HeartDisease\n",
    "# Significance level - 0.05\n",
    "\n",
    "# Creating a contingency table\n",
    "contingency_table = pd.crosstab(df['Smoking'], df['HeartDisease'])\n",
    "\n",
    "# Performing  Chi-Square test\n",
    "chi2, p, dof, expected = stats.chi2_contingency(contingency_table)\n",
    "\n",
    "# Printing results\n",
    "print(f'Chi-Square Statistic: {chi2:.4f}')\n",
    "print(f'P-value: {p:.4f}')\n",
    "print(f'Degrees of Freedom: {dof}')"
   ]
  },
  {
   "cell_type": "markdown",
   "id": "9c05c4e1-10dc-4704-bd80-2670f6d5f422",
   "metadata": {},
   "source": [
    "There is a significant relationship between smoking and heart disease."
   ]
  },
  {
   "cell_type": "markdown",
   "id": "fff6ea9f-2a65-47ee-a48a-6855378c204f",
   "metadata": {},
   "source": [
    "##### 7. Explore the correlation between sleep time and mental health. What insights can you draw?\n"
   ]
  },
  {
   "cell_type": "code",
   "execution_count": 87,
   "id": "62dff4e5-fd93-466b-ac25-0b2b31802934",
   "metadata": {},
   "outputs": [
    {
     "data": {
      "text/plain": [
       "-0.11971678803142115"
      ]
     },
     "execution_count": 87,
     "metadata": {},
     "output_type": "execute_result"
    }
   ],
   "source": [
    "# Correlation between sleep time and mental health\n",
    "df[\"SleepTime\"].corr(df[\"MentalHealth\"])"
   ]
  },
  {
   "cell_type": "markdown",
   "id": "bb879acb-ea23-4e40-b6be-9c9b6e276ec4",
   "metadata": {},
   "source": [
    "##### 8. Build a logistic regression model to predict heart disease based on BMI, physical activity, smoking, and diabetes status.\n"
   ]
  },
  {
   "cell_type": "code",
   "execution_count": 89,
   "id": "7fe1e148-cdd6-4850-9dc9-8f50f568b544",
   "metadata": {},
   "outputs": [],
   "source": [
    "from sklearn.linear_model import LogisticRegression\n",
    "from sklearn.metrics import accuracy_score"
   ]
  },
  {
   "cell_type": "code",
   "execution_count": 90,
   "id": "7e954ace-1ff7-4495-b624-49d8cb595663",
   "metadata": {},
   "outputs": [
    {
     "data": {
      "text/html": [
       "<div>\n",
       "<style scoped>\n",
       "    .dataframe tbody tr th:only-of-type {\n",
       "        vertical-align: middle;\n",
       "    }\n",
       "\n",
       "    .dataframe tbody tr th {\n",
       "        vertical-align: top;\n",
       "    }\n",
       "\n",
       "    .dataframe thead th {\n",
       "        text-align: right;\n",
       "    }\n",
       "</style>\n",
       "<table border=\"1\" class=\"dataframe\">\n",
       "  <thead>\n",
       "    <tr style=\"text-align: right;\">\n",
       "      <th></th>\n",
       "      <th>BMI</th>\n",
       "      <th>PhysicalActivity</th>\n",
       "      <th>Smoking</th>\n",
       "      <th>Diabetic</th>\n",
       "      <th>HeartDisease</th>\n",
       "    </tr>\n",
       "  </thead>\n",
       "  <tbody>\n",
       "    <tr>\n",
       "      <th>0</th>\n",
       "      <td>16.60</td>\n",
       "      <td>Yes</td>\n",
       "      <td>Yes</td>\n",
       "      <td>Yes</td>\n",
       "      <td>No</td>\n",
       "    </tr>\n",
       "    <tr>\n",
       "      <th>1</th>\n",
       "      <td>20.34</td>\n",
       "      <td>Yes</td>\n",
       "      <td>No</td>\n",
       "      <td>No</td>\n",
       "      <td>No</td>\n",
       "    </tr>\n",
       "    <tr>\n",
       "      <th>2</th>\n",
       "      <td>26.58</td>\n",
       "      <td>Yes</td>\n",
       "      <td>Yes</td>\n",
       "      <td>Yes</td>\n",
       "      <td>No</td>\n",
       "    </tr>\n",
       "    <tr>\n",
       "      <th>3</th>\n",
       "      <td>24.21</td>\n",
       "      <td>No</td>\n",
       "      <td>No</td>\n",
       "      <td>No</td>\n",
       "      <td>No</td>\n",
       "    </tr>\n",
       "    <tr>\n",
       "      <th>4</th>\n",
       "      <td>23.71</td>\n",
       "      <td>Yes</td>\n",
       "      <td>No</td>\n",
       "      <td>No</td>\n",
       "      <td>No</td>\n",
       "    </tr>\n",
       "  </tbody>\n",
       "</table>\n",
       "</div>"
      ],
      "text/plain": [
       "     BMI PhysicalActivity Smoking Diabetic HeartDisease\n",
       "0  16.60              Yes     Yes      Yes           No\n",
       "1  20.34              Yes      No       No           No\n",
       "2  26.58              Yes     Yes      Yes           No\n",
       "3  24.21               No      No       No           No\n",
       "4  23.71              Yes      No       No           No"
      ]
     },
     "execution_count": 90,
     "metadata": {},
     "output_type": "execute_result"
    }
   ],
   "source": [
    "train = df[['BMI', 'PhysicalActivity', 'Smoking', 'Diabetic','HeartDisease']]\n",
    "train.head()"
   ]
  },
  {
   "cell_type": "code",
   "execution_count": 91,
   "id": "55348cc7-2118-4987-a7e8-259390842068",
   "metadata": {},
   "outputs": [],
   "source": [
    "# Label encoding binary categorical columns\n",
    "binary_cols = ['Smoking', 'PhysicalActivity', 'HeartDisease']\n",
    "for col in binary_cols:\n",
    "    train[col] = train[col].map({'No': 0, 'Yes': 1})\n",
    "\n",
    "# One hot encoding the 'Diabetic' column only\n",
    "train = pd.get_dummies(train, columns=['Diabetic'], dtype=int)"
   ]
  },
  {
   "cell_type": "code",
   "execution_count": 92,
   "id": "3fc9691e-1d1d-4ac8-b6d1-e222c0ac9d6b",
   "metadata": {},
   "outputs": [],
   "source": [
    "X = train.drop(\"HeartDisease\",axis=1)\n",
    "y = train.HeartDisease"
   ]
  },
  {
   "cell_type": "code",
   "execution_count": 93,
   "id": "b89b3c39-886d-401f-ab71-5622b9280bb0",
   "metadata": {},
   "outputs": [
    {
     "data": {
      "text/html": [
       "<style>#sk-container-id-2 {\n",
       "  /* Definition of color scheme common for light and dark mode */\n",
       "  --sklearn-color-text: black;\n",
       "  --sklearn-color-line: gray;\n",
       "  /* Definition of color scheme for unfitted estimators */\n",
       "  --sklearn-color-unfitted-level-0: #fff5e6;\n",
       "  --sklearn-color-unfitted-level-1: #f6e4d2;\n",
       "  --sklearn-color-unfitted-level-2: #ffe0b3;\n",
       "  --sklearn-color-unfitted-level-3: chocolate;\n",
       "  /* Definition of color scheme for fitted estimators */\n",
       "  --sklearn-color-fitted-level-0: #f0f8ff;\n",
       "  --sklearn-color-fitted-level-1: #d4ebff;\n",
       "  --sklearn-color-fitted-level-2: #b3dbfd;\n",
       "  --sklearn-color-fitted-level-3: cornflowerblue;\n",
       "\n",
       "  /* Specific color for light theme */\n",
       "  --sklearn-color-text-on-default-background: var(--sg-text-color, var(--theme-code-foreground, var(--jp-content-font-color1, black)));\n",
       "  --sklearn-color-background: var(--sg-background-color, var(--theme-background, var(--jp-layout-color0, white)));\n",
       "  --sklearn-color-border-box: var(--sg-text-color, var(--theme-code-foreground, var(--jp-content-font-color1, black)));\n",
       "  --sklearn-color-icon: #696969;\n",
       "\n",
       "  @media (prefers-color-scheme: dark) {\n",
       "    /* Redefinition of color scheme for dark theme */\n",
       "    --sklearn-color-text-on-default-background: var(--sg-text-color, var(--theme-code-foreground, var(--jp-content-font-color1, white)));\n",
       "    --sklearn-color-background: var(--sg-background-color, var(--theme-background, var(--jp-layout-color0, #111)));\n",
       "    --sklearn-color-border-box: var(--sg-text-color, var(--theme-code-foreground, var(--jp-content-font-color1, white)));\n",
       "    --sklearn-color-icon: #878787;\n",
       "  }\n",
       "}\n",
       "\n",
       "#sk-container-id-2 {\n",
       "  color: var(--sklearn-color-text);\n",
       "}\n",
       "\n",
       "#sk-container-id-2 pre {\n",
       "  padding: 0;\n",
       "}\n",
       "\n",
       "#sk-container-id-2 input.sk-hidden--visually {\n",
       "  border: 0;\n",
       "  clip: rect(1px 1px 1px 1px);\n",
       "  clip: rect(1px, 1px, 1px, 1px);\n",
       "  height: 1px;\n",
       "  margin: -1px;\n",
       "  overflow: hidden;\n",
       "  padding: 0;\n",
       "  position: absolute;\n",
       "  width: 1px;\n",
       "}\n",
       "\n",
       "#sk-container-id-2 div.sk-dashed-wrapped {\n",
       "  border: 1px dashed var(--sklearn-color-line);\n",
       "  margin: 0 0.4em 0.5em 0.4em;\n",
       "  box-sizing: border-box;\n",
       "  padding-bottom: 0.4em;\n",
       "  background-color: var(--sklearn-color-background);\n",
       "}\n",
       "\n",
       "#sk-container-id-2 div.sk-container {\n",
       "  /* jupyter's `normalize.less` sets `[hidden] { display: none; }`\n",
       "     but bootstrap.min.css set `[hidden] { display: none !important; }`\n",
       "     so we also need the `!important` here to be able to override the\n",
       "     default hidden behavior on the sphinx rendered scikit-learn.org.\n",
       "     See: https://github.com/scikit-learn/scikit-learn/issues/21755 */\n",
       "  display: inline-block !important;\n",
       "  position: relative;\n",
       "}\n",
       "\n",
       "#sk-container-id-2 div.sk-text-repr-fallback {\n",
       "  display: none;\n",
       "}\n",
       "\n",
       "div.sk-parallel-item,\n",
       "div.sk-serial,\n",
       "div.sk-item {\n",
       "  /* draw centered vertical line to link estimators */\n",
       "  background-image: linear-gradient(var(--sklearn-color-text-on-default-background), var(--sklearn-color-text-on-default-background));\n",
       "  background-size: 2px 100%;\n",
       "  background-repeat: no-repeat;\n",
       "  background-position: center center;\n",
       "}\n",
       "\n",
       "/* Parallel-specific style estimator block */\n",
       "\n",
       "#sk-container-id-2 div.sk-parallel-item::after {\n",
       "  content: \"\";\n",
       "  width: 100%;\n",
       "  border-bottom: 2px solid var(--sklearn-color-text-on-default-background);\n",
       "  flex-grow: 1;\n",
       "}\n",
       "\n",
       "#sk-container-id-2 div.sk-parallel {\n",
       "  display: flex;\n",
       "  align-items: stretch;\n",
       "  justify-content: center;\n",
       "  background-color: var(--sklearn-color-background);\n",
       "  position: relative;\n",
       "}\n",
       "\n",
       "#sk-container-id-2 div.sk-parallel-item {\n",
       "  display: flex;\n",
       "  flex-direction: column;\n",
       "}\n",
       "\n",
       "#sk-container-id-2 div.sk-parallel-item:first-child::after {\n",
       "  align-self: flex-end;\n",
       "  width: 50%;\n",
       "}\n",
       "\n",
       "#sk-container-id-2 div.sk-parallel-item:last-child::after {\n",
       "  align-self: flex-start;\n",
       "  width: 50%;\n",
       "}\n",
       "\n",
       "#sk-container-id-2 div.sk-parallel-item:only-child::after {\n",
       "  width: 0;\n",
       "}\n",
       "\n",
       "/* Serial-specific style estimator block */\n",
       "\n",
       "#sk-container-id-2 div.sk-serial {\n",
       "  display: flex;\n",
       "  flex-direction: column;\n",
       "  align-items: center;\n",
       "  background-color: var(--sklearn-color-background);\n",
       "  padding-right: 1em;\n",
       "  padding-left: 1em;\n",
       "}\n",
       "\n",
       "\n",
       "/* Toggleable style: style used for estimator/Pipeline/ColumnTransformer box that is\n",
       "clickable and can be expanded/collapsed.\n",
       "- Pipeline and ColumnTransformer use this feature and define the default style\n",
       "- Estimators will overwrite some part of the style using the `sk-estimator` class\n",
       "*/\n",
       "\n",
       "/* Pipeline and ColumnTransformer style (default) */\n",
       "\n",
       "#sk-container-id-2 div.sk-toggleable {\n",
       "  /* Default theme specific background. It is overwritten whether we have a\n",
       "  specific estimator or a Pipeline/ColumnTransformer */\n",
       "  background-color: var(--sklearn-color-background);\n",
       "}\n",
       "\n",
       "/* Toggleable label */\n",
       "#sk-container-id-2 label.sk-toggleable__label {\n",
       "  cursor: pointer;\n",
       "  display: block;\n",
       "  width: 100%;\n",
       "  margin-bottom: 0;\n",
       "  padding: 0.5em;\n",
       "  box-sizing: border-box;\n",
       "  text-align: center;\n",
       "}\n",
       "\n",
       "#sk-container-id-2 label.sk-toggleable__label-arrow:before {\n",
       "  /* Arrow on the left of the label */\n",
       "  content: \"▸\";\n",
       "  float: left;\n",
       "  margin-right: 0.25em;\n",
       "  color: var(--sklearn-color-icon);\n",
       "}\n",
       "\n",
       "#sk-container-id-2 label.sk-toggleable__label-arrow:hover:before {\n",
       "  color: var(--sklearn-color-text);\n",
       "}\n",
       "\n",
       "/* Toggleable content - dropdown */\n",
       "\n",
       "#sk-container-id-2 div.sk-toggleable__content {\n",
       "  max-height: 0;\n",
       "  max-width: 0;\n",
       "  overflow: hidden;\n",
       "  text-align: left;\n",
       "  /* unfitted */\n",
       "  background-color: var(--sklearn-color-unfitted-level-0);\n",
       "}\n",
       "\n",
       "#sk-container-id-2 div.sk-toggleable__content.fitted {\n",
       "  /* fitted */\n",
       "  background-color: var(--sklearn-color-fitted-level-0);\n",
       "}\n",
       "\n",
       "#sk-container-id-2 div.sk-toggleable__content pre {\n",
       "  margin: 0.2em;\n",
       "  border-radius: 0.25em;\n",
       "  color: var(--sklearn-color-text);\n",
       "  /* unfitted */\n",
       "  background-color: var(--sklearn-color-unfitted-level-0);\n",
       "}\n",
       "\n",
       "#sk-container-id-2 div.sk-toggleable__content.fitted pre {\n",
       "  /* unfitted */\n",
       "  background-color: var(--sklearn-color-fitted-level-0);\n",
       "}\n",
       "\n",
       "#sk-container-id-2 input.sk-toggleable__control:checked~div.sk-toggleable__content {\n",
       "  /* Expand drop-down */\n",
       "  max-height: 200px;\n",
       "  max-width: 100%;\n",
       "  overflow: auto;\n",
       "}\n",
       "\n",
       "#sk-container-id-2 input.sk-toggleable__control:checked~label.sk-toggleable__label-arrow:before {\n",
       "  content: \"▾\";\n",
       "}\n",
       "\n",
       "/* Pipeline/ColumnTransformer-specific style */\n",
       "\n",
       "#sk-container-id-2 div.sk-label input.sk-toggleable__control:checked~label.sk-toggleable__label {\n",
       "  color: var(--sklearn-color-text);\n",
       "  background-color: var(--sklearn-color-unfitted-level-2);\n",
       "}\n",
       "\n",
       "#sk-container-id-2 div.sk-label.fitted input.sk-toggleable__control:checked~label.sk-toggleable__label {\n",
       "  background-color: var(--sklearn-color-fitted-level-2);\n",
       "}\n",
       "\n",
       "/* Estimator-specific style */\n",
       "\n",
       "/* Colorize estimator box */\n",
       "#sk-container-id-2 div.sk-estimator input.sk-toggleable__control:checked~label.sk-toggleable__label {\n",
       "  /* unfitted */\n",
       "  background-color: var(--sklearn-color-unfitted-level-2);\n",
       "}\n",
       "\n",
       "#sk-container-id-2 div.sk-estimator.fitted input.sk-toggleable__control:checked~label.sk-toggleable__label {\n",
       "  /* fitted */\n",
       "  background-color: var(--sklearn-color-fitted-level-2);\n",
       "}\n",
       "\n",
       "#sk-container-id-2 div.sk-label label.sk-toggleable__label,\n",
       "#sk-container-id-2 div.sk-label label {\n",
       "  /* The background is the default theme color */\n",
       "  color: var(--sklearn-color-text-on-default-background);\n",
       "}\n",
       "\n",
       "/* On hover, darken the color of the background */\n",
       "#sk-container-id-2 div.sk-label:hover label.sk-toggleable__label {\n",
       "  color: var(--sklearn-color-text);\n",
       "  background-color: var(--sklearn-color-unfitted-level-2);\n",
       "}\n",
       "\n",
       "/* Label box, darken color on hover, fitted */\n",
       "#sk-container-id-2 div.sk-label.fitted:hover label.sk-toggleable__label.fitted {\n",
       "  color: var(--sklearn-color-text);\n",
       "  background-color: var(--sklearn-color-fitted-level-2);\n",
       "}\n",
       "\n",
       "/* Estimator label */\n",
       "\n",
       "#sk-container-id-2 div.sk-label label {\n",
       "  font-family: monospace;\n",
       "  font-weight: bold;\n",
       "  display: inline-block;\n",
       "  line-height: 1.2em;\n",
       "}\n",
       "\n",
       "#sk-container-id-2 div.sk-label-container {\n",
       "  text-align: center;\n",
       "}\n",
       "\n",
       "/* Estimator-specific */\n",
       "#sk-container-id-2 div.sk-estimator {\n",
       "  font-family: monospace;\n",
       "  border: 1px dotted var(--sklearn-color-border-box);\n",
       "  border-radius: 0.25em;\n",
       "  box-sizing: border-box;\n",
       "  margin-bottom: 0.5em;\n",
       "  /* unfitted */\n",
       "  background-color: var(--sklearn-color-unfitted-level-0);\n",
       "}\n",
       "\n",
       "#sk-container-id-2 div.sk-estimator.fitted {\n",
       "  /* fitted */\n",
       "  background-color: var(--sklearn-color-fitted-level-0);\n",
       "}\n",
       "\n",
       "/* on hover */\n",
       "#sk-container-id-2 div.sk-estimator:hover {\n",
       "  /* unfitted */\n",
       "  background-color: var(--sklearn-color-unfitted-level-2);\n",
       "}\n",
       "\n",
       "#sk-container-id-2 div.sk-estimator.fitted:hover {\n",
       "  /* fitted */\n",
       "  background-color: var(--sklearn-color-fitted-level-2);\n",
       "}\n",
       "\n",
       "/* Specification for estimator info (e.g. \"i\" and \"?\") */\n",
       "\n",
       "/* Common style for \"i\" and \"?\" */\n",
       "\n",
       ".sk-estimator-doc-link,\n",
       "a:link.sk-estimator-doc-link,\n",
       "a:visited.sk-estimator-doc-link {\n",
       "  float: right;\n",
       "  font-size: smaller;\n",
       "  line-height: 1em;\n",
       "  font-family: monospace;\n",
       "  background-color: var(--sklearn-color-background);\n",
       "  border-radius: 1em;\n",
       "  height: 1em;\n",
       "  width: 1em;\n",
       "  text-decoration: none !important;\n",
       "  margin-left: 1ex;\n",
       "  /* unfitted */\n",
       "  border: var(--sklearn-color-unfitted-level-1) 1pt solid;\n",
       "  color: var(--sklearn-color-unfitted-level-1);\n",
       "}\n",
       "\n",
       ".sk-estimator-doc-link.fitted,\n",
       "a:link.sk-estimator-doc-link.fitted,\n",
       "a:visited.sk-estimator-doc-link.fitted {\n",
       "  /* fitted */\n",
       "  border: var(--sklearn-color-fitted-level-1) 1pt solid;\n",
       "  color: var(--sklearn-color-fitted-level-1);\n",
       "}\n",
       "\n",
       "/* On hover */\n",
       "div.sk-estimator:hover .sk-estimator-doc-link:hover,\n",
       ".sk-estimator-doc-link:hover,\n",
       "div.sk-label-container:hover .sk-estimator-doc-link:hover,\n",
       ".sk-estimator-doc-link:hover {\n",
       "  /* unfitted */\n",
       "  background-color: var(--sklearn-color-unfitted-level-3);\n",
       "  color: var(--sklearn-color-background);\n",
       "  text-decoration: none;\n",
       "}\n",
       "\n",
       "div.sk-estimator.fitted:hover .sk-estimator-doc-link.fitted:hover,\n",
       ".sk-estimator-doc-link.fitted:hover,\n",
       "div.sk-label-container:hover .sk-estimator-doc-link.fitted:hover,\n",
       ".sk-estimator-doc-link.fitted:hover {\n",
       "  /* fitted */\n",
       "  background-color: var(--sklearn-color-fitted-level-3);\n",
       "  color: var(--sklearn-color-background);\n",
       "  text-decoration: none;\n",
       "}\n",
       "\n",
       "/* Span, style for the box shown on hovering the info icon */\n",
       ".sk-estimator-doc-link span {\n",
       "  display: none;\n",
       "  z-index: 9999;\n",
       "  position: relative;\n",
       "  font-weight: normal;\n",
       "  right: .2ex;\n",
       "  padding: .5ex;\n",
       "  margin: .5ex;\n",
       "  width: min-content;\n",
       "  min-width: 20ex;\n",
       "  max-width: 50ex;\n",
       "  color: var(--sklearn-color-text);\n",
       "  box-shadow: 2pt 2pt 4pt #999;\n",
       "  /* unfitted */\n",
       "  background: var(--sklearn-color-unfitted-level-0);\n",
       "  border: .5pt solid var(--sklearn-color-unfitted-level-3);\n",
       "}\n",
       "\n",
       ".sk-estimator-doc-link.fitted span {\n",
       "  /* fitted */\n",
       "  background: var(--sklearn-color-fitted-level-0);\n",
       "  border: var(--sklearn-color-fitted-level-3);\n",
       "}\n",
       "\n",
       ".sk-estimator-doc-link:hover span {\n",
       "  display: block;\n",
       "}\n",
       "\n",
       "/* \"?\"-specific style due to the `<a>` HTML tag */\n",
       "\n",
       "#sk-container-id-2 a.estimator_doc_link {\n",
       "  float: right;\n",
       "  font-size: 1rem;\n",
       "  line-height: 1em;\n",
       "  font-family: monospace;\n",
       "  background-color: var(--sklearn-color-background);\n",
       "  border-radius: 1rem;\n",
       "  height: 1rem;\n",
       "  width: 1rem;\n",
       "  text-decoration: none;\n",
       "  /* unfitted */\n",
       "  color: var(--sklearn-color-unfitted-level-1);\n",
       "  border: var(--sklearn-color-unfitted-level-1) 1pt solid;\n",
       "}\n",
       "\n",
       "#sk-container-id-2 a.estimator_doc_link.fitted {\n",
       "  /* fitted */\n",
       "  border: var(--sklearn-color-fitted-level-1) 1pt solid;\n",
       "  color: var(--sklearn-color-fitted-level-1);\n",
       "}\n",
       "\n",
       "/* On hover */\n",
       "#sk-container-id-2 a.estimator_doc_link:hover {\n",
       "  /* unfitted */\n",
       "  background-color: var(--sklearn-color-unfitted-level-3);\n",
       "  color: var(--sklearn-color-background);\n",
       "  text-decoration: none;\n",
       "}\n",
       "\n",
       "#sk-container-id-2 a.estimator_doc_link.fitted:hover {\n",
       "  /* fitted */\n",
       "  background-color: var(--sklearn-color-fitted-level-3);\n",
       "}\n",
       "</style><div id=\"sk-container-id-2\" class=\"sk-top-container\"><div class=\"sk-text-repr-fallback\"><pre>LogisticRegression(random_state=42)</pre><b>In a Jupyter environment, please rerun this cell to show the HTML representation or trust the notebook. <br />On GitHub, the HTML representation is unable to render, please try loading this page with nbviewer.org.</b></div><div class=\"sk-container\" hidden><div class=\"sk-item\"><div class=\"sk-estimator fitted sk-toggleable\"><input class=\"sk-toggleable__control sk-hidden--visually\" id=\"sk-estimator-id-2\" type=\"checkbox\" checked><label for=\"sk-estimator-id-2\" class=\"sk-toggleable__label fitted sk-toggleable__label-arrow fitted\">&nbsp;&nbsp;LogisticRegression<a class=\"sk-estimator-doc-link fitted\" rel=\"noreferrer\" target=\"_blank\" href=\"https://scikit-learn.org/1.4/modules/generated/sklearn.linear_model.LogisticRegression.html\">?<span>Documentation for LogisticRegression</span></a><span class=\"sk-estimator-doc-link fitted\">i<span>Fitted</span></span></label><div class=\"sk-toggleable__content fitted\"><pre>LogisticRegression(random_state=42)</pre></div> </div></div></div></div>"
      ],
      "text/plain": [
       "LogisticRegression(random_state=42)"
      ]
     },
     "execution_count": 93,
     "metadata": {},
     "output_type": "execute_result"
    }
   ],
   "source": [
    "# Instantiating logistic regression model\n",
    "lr = LogisticRegression(random_state=42)\n",
    "\n",
    "# Fitting the model to the training data\n",
    "lr.fit(X,y)"
   ]
  },
  {
   "cell_type": "code",
   "execution_count": 94,
   "id": "723cfe04-d73b-46a3-8b57-a1f233d4cbe2",
   "metadata": {},
   "outputs": [
    {
     "name": "stdout",
     "output_type": "stream",
     "text": [
      "Accuracy: 0.9144\n"
     ]
    }
   ],
   "source": [
    "# Making prediction using the model\n",
    "lr_preds = lr.predict(X)\n",
    "\n",
    "# Calculating the accuracy \n",
    "accuracy = accuracy_score(y,lr_preds)\n",
    "print(f'Accuracy: {accuracy:.4f}')"
   ]
  },
  {
   "cell_type": "markdown",
   "id": "699e2eda-827d-4bf4-b93b-8d15357763b2",
   "metadata": {},
   "source": [
    "##### 9. If you were to predict heart disease based on this dataset, which features would you include in your model, and why?"
   ]
  },
  {
   "cell_type": "code",
   "execution_count": 96,
   "id": "6b0d4f4f-040e-43dc-9734-c66ecf044eb9",
   "metadata": {},
   "outputs": [
    {
     "name": "stdout",
     "output_type": "stream",
     "text": [
      "PhysicalActivity    0.063877\n",
      "Race                0.059032\n",
      "GenHealth           0.051146\n",
      "Sex                 0.042035\n",
      "AgeCategory         0.036888\n",
      "Smoking             0.033632\n",
      "SleepTime           0.019822\n",
      "DiffWalking         0.018594\n",
      "Diabetic            0.016017\n",
      "Stroke              0.012739\n",
      "PhysicalHealth      0.012678\n",
      "KidneyDisease       0.007625\n",
      "SkinCancer          0.005607\n",
      "Asthma              0.004424\n",
      "BMI                 0.002908\n",
      "MentalHealth        0.001865\n",
      "AlcoholDrinking     0.000887\n",
      "dtype: float64\n"
     ]
    }
   ],
   "source": [
    "from sklearn.feature_selection import mutual_info_classif\n",
    "\n",
    "# Converting categorical variables to numeric using Label encoder\n",
    "from sklearn.preprocessing import LabelEncoder\n",
    "\n",
    "# Encoding categorical columns\n",
    "df_encoded = df.copy()\n",
    "for col in df.select_dtypes(include=['object']).columns:\n",
    "    df_encoded[col] = LabelEncoder().fit_transform(df_encoded[col])\n",
    "\n",
    "# Defining the independent and dependent variables\n",
    "X = df_encoded.drop(columns=['HeartDisease']) \n",
    "y = df_encoded['HeartDisease']\n",
    "\n",
    "# Computing Mutual Information\n",
    "mi_scores = mutual_info_classif(X, y, discrete_features='auto')\n",
    "\n",
    "# Converting to DataFrame\n",
    "mi_scores = pd.Series(mi_scores, index=X.columns).sort_values(ascending=False)\n",
    "\n",
    "# Displaying important features\n",
    "print(mi_scores)"
   ]
  },
  {
   "cell_type": "markdown",
   "id": "903d45d6-f2c5-4a47-b5f6-0aac829ea4a6",
   "metadata": {},
   "source": [
    "##### Features with high importance\n",
    "- Physical Activity - Not participating in any physical activities is an established risk factor for heart disease.\n",
    "- Race - Genetic and sociocultural factors lead to some ethnic populations having higher prevalence rates for some diseases.\n",
    "- Gen Health - Poor general health reported by patients is associated with greater underlying diseases.\n",
    "- Sex - Hormones and lifestyle predispose males and females differently to the risks of heart disease.\n",
    "- Age Category - Age Category confirms that the risk of heart disease increases as one ages.\n",
    "- Smoking - Smokers tend to have a significantly higher risk of heart disease.\n",
    "\n",
    "These features have higher MI scores meaning they contribute the most to predicting heart disease. They are also important from a medical perspective in light of the existing research on heart disease.\n",
    "\n",
    "##### Feature with moderate importance\n",
    "- SleepTime - Recent studies suggest that lack of sleep can have a harmful effect on cardiovascular health. \n",
    "- DiffWalking - Having difficulty walking often indicates some sort of circulatory issue or heart disease. \n",
    "- Diabetic - Diabetic people are at a greater risk of suffering from heart disease. \n",
    "- PhysicalHealth- Long-term illness can impact the health of the heart. \n",
    "- Stroke - Having a history of strokes could suggest the possibility of heart disease.\n",
    "\n",
    "While these features have lower MI scores they are  relevant because they relate to lifestyle and pre existing health conditions which are known contributors to heart disease."
   ]
  },
  {
   "cell_type": "markdown",
   "id": "c5539df9-56a6-44be-b725-1df70e337e97",
   "metadata": {},
   "source": [
    "##### 10. Based on the findings from the dataset, what recommendations can you give to reduce the risk of heart disease?\n",
    "\n",
    "1. Increase physical activity by performing at least 150 minutes of exercise per week to improve cardiovascular health.\n",
    "2. Encourage regular health checkups, especially for risk groups such as individuals over 40 years old, males, and certain racial groups.\n",
    "3. Reduce smoking through quit smoking initiatives and health promotion activities on its association with heart disease.\n",
    "4. Improve overall heart health by spending seven to nine hours of restful sleep per night.  \n",
    "5. Control diabetes by managing blood sugar levels as well as increasing dietary fiber and reducing sugar consumption.  \n",
    "6. Promote the circulation of blood and mobility through light exercises to minimize the risk of heart disease caused by lack of physical activity."
   ]
  }
 ],
 "metadata": {
  "kernelspec": {
   "display_name": "Python 3 (ipykernel)",
   "language": "python",
   "name": "python3"
  },
  "language_info": {
   "codemirror_mode": {
    "name": "ipython",
    "version": 3
   },
   "file_extension": ".py",
   "mimetype": "text/x-python",
   "name": "python",
   "nbconvert_exporter": "python",
   "pygments_lexer": "ipython3",
   "version": "3.12.4"
  }
 },
 "nbformat": 4,
 "nbformat_minor": 5
}
